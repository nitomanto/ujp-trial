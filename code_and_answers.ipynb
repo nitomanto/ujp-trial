{
 "cells": [
  {
   "cell_type": "code",
   "execution_count": 74,
   "metadata": {},
   "outputs": [],
   "source": [
    "import numpy as np\n",
    "import pandas as pd\n",
    "import seaborn as sns\n",
    "import statsmodels.formula.api as smf\n",
    "\n",
    "# importing the important stuff"
   ]
  },
  {
   "cell_type": "code",
   "execution_count": 3,
   "metadata": {},
   "outputs": [
    {
     "name": "stderr",
     "output_type": "stream",
     "text": [
      "c:\\Users\\anita\\anaconda3\\Lib\\site-packages\\numpy\\core\\fromnumeric.py:86: FutureWarning: The behavior of DataFrame.sum with axis=None is deprecated, in a future version this will reduce over both axes and return a scalar. To retain the old behavior, pass axis=0 (or do not pass axis)\n",
      "  return reduction(axis=axis, out=out, **passkwargs)\n"
     ]
    },
    {
     "data": {
      "text/plain": [
       "GEOID                      0\n",
       "city                       0\n",
       "year                       0\n",
       "total_police_killings      0\n",
       "unarmed_police_killings    0\n",
       "dtype: int64"
      ]
     },
     "execution_count": 3,
     "metadata": {},
     "output_type": "execute_result"
    }
   ],
   "source": [
    "# reading the file into df and checking for nans/dropping nans\n",
    "\n",
    "df = pd.read_csv('police_violence.csv')\n",
    "\n",
    "np.sum(df.isna())"
   ]
  },
  {
   "cell_type": "code",
   "execution_count": 7,
   "metadata": {},
   "outputs": [
    {
     "data": {
      "text/html": [
       "<div>\n",
       "<style scoped>\n",
       "    .dataframe tbody tr th:only-of-type {\n",
       "        vertical-align: middle;\n",
       "    }\n",
       "\n",
       "    .dataframe tbody tr th {\n",
       "        vertical-align: top;\n",
       "    }\n",
       "\n",
       "    .dataframe thead th {\n",
       "        text-align: right;\n",
       "    }\n",
       "</style>\n",
       "<table border=\"1\" class=\"dataframe\">\n",
       "  <thead>\n",
       "    <tr style=\"text-align: right;\">\n",
       "      <th></th>\n",
       "      <th>GEOID</th>\n",
       "      <th>city</th>\n",
       "      <th>year</th>\n",
       "      <th>total_police_killings</th>\n",
       "      <th>unarmed_police_killings</th>\n",
       "    </tr>\n",
       "  </thead>\n",
       "  <tbody>\n",
       "    <tr>\n",
       "      <th>0</th>\n",
       "      <td>107000</td>\n",
       "      <td>birmingham city</td>\n",
       "      <td>2014</td>\n",
       "      <td>3</td>\n",
       "      <td>1</td>\n",
       "    </tr>\n",
       "    <tr>\n",
       "      <th>1</th>\n",
       "      <td>107000</td>\n",
       "      <td>birmingham city</td>\n",
       "      <td>2015</td>\n",
       "      <td>3</td>\n",
       "      <td>0</td>\n",
       "    </tr>\n",
       "    <tr>\n",
       "      <th>2</th>\n",
       "      <td>107000</td>\n",
       "      <td>birmingham city</td>\n",
       "      <td>2016</td>\n",
       "      <td>4</td>\n",
       "      <td>1</td>\n",
       "    </tr>\n",
       "    <tr>\n",
       "      <th>3</th>\n",
       "      <td>107000</td>\n",
       "      <td>birmingham city</td>\n",
       "      <td>2017</td>\n",
       "      <td>4</td>\n",
       "      <td>0</td>\n",
       "    </tr>\n",
       "    <tr>\n",
       "      <th>4</th>\n",
       "      <td>107000</td>\n",
       "      <td>birmingham city</td>\n",
       "      <td>2018</td>\n",
       "      <td>1</td>\n",
       "      <td>0</td>\n",
       "    </tr>\n",
       "    <tr>\n",
       "      <th>5</th>\n",
       "      <td>107000</td>\n",
       "      <td>birmingham city</td>\n",
       "      <td>2019</td>\n",
       "      <td>1</td>\n",
       "      <td>0</td>\n",
       "    </tr>\n",
       "    <tr>\n",
       "      <th>6</th>\n",
       "      <td>107000</td>\n",
       "      <td>birmingham city</td>\n",
       "      <td>2020</td>\n",
       "      <td>2</td>\n",
       "      <td>1</td>\n",
       "    </tr>\n",
       "    <tr>\n",
       "      <th>7</th>\n",
       "      <td>107000</td>\n",
       "      <td>birmingham city</td>\n",
       "      <td>2021</td>\n",
       "      <td>4</td>\n",
       "      <td>1</td>\n",
       "    </tr>\n",
       "    <tr>\n",
       "      <th>8</th>\n",
       "      <td>107000</td>\n",
       "      <td>birmingham city</td>\n",
       "      <td>2022</td>\n",
       "      <td>1</td>\n",
       "      <td>0</td>\n",
       "    </tr>\n",
       "    <tr>\n",
       "      <th>9</th>\n",
       "      <td>107000</td>\n",
       "      <td>birmingham city</td>\n",
       "      <td>2023</td>\n",
       "      <td>1</td>\n",
       "      <td>0</td>\n",
       "    </tr>\n",
       "  </tbody>\n",
       "</table>\n",
       "</div>"
      ],
      "text/plain": [
       "    GEOID             city  year  total_police_killings  \\\n",
       "0  107000  birmingham city  2014                      3   \n",
       "1  107000  birmingham city  2015                      3   \n",
       "2  107000  birmingham city  2016                      4   \n",
       "3  107000  birmingham city  2017                      4   \n",
       "4  107000  birmingham city  2018                      1   \n",
       "5  107000  birmingham city  2019                      1   \n",
       "6  107000  birmingham city  2020                      2   \n",
       "7  107000  birmingham city  2021                      4   \n",
       "8  107000  birmingham city  2022                      1   \n",
       "9  107000  birmingham city  2023                      1   \n",
       "\n",
       "   unarmed_police_killings  \n",
       "0                        1  \n",
       "1                        0  \n",
       "2                        1  \n",
       "3                        0  \n",
       "4                        0  \n",
       "5                        0  \n",
       "6                        1  \n",
       "7                        1  \n",
       "8                        0  \n",
       "9                        0  "
      ]
     },
     "execution_count": 7,
     "metadata": {},
     "output_type": "execute_result"
    }
   ],
   "source": [
    "df.head(10)"
   ]
  },
  {
   "cell_type": "markdown",
   "metadata": {},
   "source": [
    "**Part 1: Mapping Police Violence Descriptives**"
   ]
  },
  {
   "cell_type": "code",
   "execution_count": 24,
   "metadata": {},
   "outputs": [
    {
     "data": {
      "text/plain": [
       "<Axes: xlabel='year'>"
      ]
     },
     "execution_count": 24,
     "metadata": {},
     "output_type": "execute_result"
    },
    {
     "data": {
      "image/png": "[encoded data removed]",
      "text/plain": [
       "<Figure size 640x480 with 1 Axes>"
      ]
     },
     "metadata": {},
     "output_type": "display_data"
    }
   ],
   "source": [
    "# TASK 1: Create lineplot\n",
    "\n",
    "# Summing up all police killings across all cities by year\n",
    "\n",
    "df_allcity = df[['total_police_killings', 'unarmed_police_killings','year']].groupby('year').sum()\n",
    "\n",
    "# Creating lineplot using seaborn\n",
    "\n",
    "sns.lineplot(data=df_allcity,\n",
    "            errorbar=None,\n",
    "            )\n"
   ]
  },
  {
   "cell_type": "markdown",
   "metadata": {},
   "source": [
    "We can see from this visualization that there has been an increase in both total and unarmed police killings that remains relatively steady starting from 2016 and continuing through 2022. The similar shape in the plots indicates that unarmed police killings are not likely motivated by a different factor other than overall police killing rates."
   ]
  },
  {
   "cell_type": "code",
   "execution_count": 42,
   "metadata": {},
   "outputs": [
    {
     "name": "stdout",
     "output_type": "stream",
     "text": [
      "511.0 502.0 572\n"
     ]
    },
    {
     "data": {
      "text/html": [
       "<div>\n",
       "<style scoped>\n",
       "    .dataframe tbody tr th:only-of-type {\n",
       "        vertical-align: middle;\n",
       "    }\n",
       "\n",
       "    .dataframe tbody tr th {\n",
       "        vertical-align: top;\n",
       "    }\n",
       "\n",
       "    .dataframe thead th {\n",
       "        text-align: right;\n",
       "    }\n",
       "</style>\n",
       "<table border=\"1\" class=\"dataframe\">\n",
       "  <thead>\n",
       "    <tr style=\"text-align: right;\">\n",
       "      <th></th>\n",
       "      <th>total_police_killings</th>\n",
       "    </tr>\n",
       "    <tr>\n",
       "      <th>city</th>\n",
       "      <th></th>\n",
       "    </tr>\n",
       "  </thead>\n",
       "  <tbody>\n",
       "    <tr>\n",
       "      <th>los angeles city</th>\n",
       "      <td>242</td>\n",
       "    </tr>\n",
       "    <tr>\n",
       "      <th>houston city</th>\n",
       "      <td>188</td>\n",
       "    </tr>\n",
       "    <tr>\n",
       "      <th>phoenix city</th>\n",
       "      <td>179</td>\n",
       "    </tr>\n",
       "    <tr>\n",
       "      <th>new york city</th>\n",
       "      <td>121</td>\n",
       "    </tr>\n",
       "    <tr>\n",
       "      <th>chicago city</th>\n",
       "      <td>111</td>\n",
       "    </tr>\n",
       "  </tbody>\n",
       "</table>\n",
       "</div>"
      ],
      "text/plain": [
       "                  total_police_killings\n",
       "city                                   \n",
       "los angeles city                    242\n",
       "houston city                        188\n",
       "phoenix city                        179\n",
       "new york city                       121\n",
       "chicago city                        111"
      ]
     },
     "execution_count": 42,
     "metadata": {},
     "output_type": "execute_result"
    }
   ],
   "source": [
    "# Task 2: Descriptives\n",
    "\n",
    "# finding mean, median, and max of all 'total_police_killings' entries\n",
    "\n",
    "pol_kill_mean = df_allcity['total_police_killings'].mean()\n",
    "\n",
    "pol_kill_median = df_allcity['total_police_killings'].median()\n",
    "\n",
    "pol_kill_max = df_allcity['total_police_killings'].max()\n",
    "\n",
    "print(pol_kill_mean, pol_kill_median, pol_kill_max)\n",
    "\n",
    "# grouping dataframe as city: total police kills summed over all years\n",
    "\n",
    "df_kill_by_city = df[['city','total_police_killings']].groupby('city').sum()\n",
    "\n",
    "# sorting dataframe by number of total killings\n",
    "\n",
    "df_kill_by_city = df_kill_by_city.sort_values('total_police_killings',\n",
    "                                              ascending=False)\n",
    "\n",
    "df_kill_by_city.head()"
   ]
  },
  {
   "cell_type": "markdown",
   "metadata": {},
   "source": [
    "\n",
    "I was a little bit unsure about the wording of this question, so I found the mean, median, and max number of police killings for all the cities aggregated rather by individual city entries (am slightly unsure if you wanted the latter). Across all cities aggregated, the mean number was 511, the median number was 502, and the maximum number was 572. Additionally, for the second half of the question, I interpret the five cities with the most police killings to be the total number of killings summed across all years. The five cities with the highest number of police involved killings in order of most to least are: Los Angeles, Houston, Phoenix, New York, and Chicago."
   ]
  },
  {
   "cell_type": "markdown",
   "metadata": {},
   "source": [
    "**Part 2: Police Violence and Demographic Covariates**"
   ]
  },
  {
   "cell_type": "code",
   "execution_count": 83,
   "metadata": {},
   "outputs": [
    {
     "data": {
      "text/plain": [
       "total_police_killings      1.000000\n",
       "native_american            0.781308\n",
       "owner_occupied_homes       0.771541\n",
       "multi_race                 0.753080\n",
       "hispanic                   0.750833\n",
       "civilian_employed          0.717464\n",
       "other_race                 0.715172\n",
       "vacant_homes               0.711820\n",
       "civilian_labor_force       0.708823\n",
       "white                      0.707605\n",
       "total_homes                0.691296\n",
       "total_population           0.688752\n",
       "total_occupied_homes       0.687437\n",
       "renter_occupied_homes      0.627902\n",
       "civilian_unemployed        0.621409\n",
       "black                      0.543267\n",
       "asian                      0.463355\n",
       "aapi                       0.391212\n",
       "gini_index                 0.259579\n",
       "native_american_percent    0.156248\n",
       "hispanic_percent           0.097601\n",
       "black_percent              0.088369\n",
       "multi_race_percent         0.024993\n",
       "employed_percent          -0.036353\n",
       "aapi_percent              -0.043005\n",
       "median_home_value         -0.043642\n",
       "asian_percent             -0.079835\n",
       "white_percent             -0.119554\n",
       "median_income             -0.157251\n",
       "dtype: float64"
      ]
     },
     "execution_count": 83,
     "metadata": {},
     "output_type": "execute_result"
    }
   ],
   "source": [
    "# Task 3: What Correlates with Police Violence\n",
    "\n",
    "# read census covariates into pd dataframe\n",
    "\n",
    "df_cov = pd.read_csv('census_covariates.csv')\n",
    "\n",
    "# applying .lower() to city names to prep for dataframe merge with 'df'\n",
    "df_cov['PLACE'] = df_cov['PLACE'].apply(lambda x: x.lower())\n",
    "\n",
    "# renaming column 'PLACE' to prep for dataframe merge\n",
    "df_cov = df_cov.rename(columns={'PLACE': 'city'}, errors='raise')\n",
    "\n",
    "# MERGING WOOHOO\n",
    "df_merged = df_cov.merge(df_kill_by_city, on='city')\n",
    "\n",
    "# Making some new columns (percentage race demos, percentage employed)\n",
    "\n",
    "race_lst = ['native_american', 'hispanic', 'black', 'white', 'asian', 'aapi', 'multi_race']\n",
    "\n",
    "for race in race_lst:\n",
    "    colname = race + '_percent'\n",
    "    df_merged[colname] = df_merged[race] / df_merged['total_population']\n",
    "\n",
    "df_merged['employed_percent'] = df_merged['civilian_employed'] / df_merged['total_population']\n",
    "\n",
    "# making list of numeric variables in df_merged\n",
    "from pandas.api.types import is_numeric_dtype    \n",
    "numeric_lst = []\n",
    "\n",
    "for col in df_merged.columns:\n",
    "    if is_numeric_dtype(df_merged[col].dtype):\n",
    "        numeric_lst.append(col)\n",
    "\n",
    "# calculating correlations\n",
    "\n",
    "df_merged[numeric_lst].corrwith(df_merged['total_police_killings']).sort_values(ascending=False)"
   ]
  },
  {
   "cell_type": "code",
   "execution_count": 84,
   "metadata": {},
   "outputs": [
    {
     "data": {
      "text/plain": [
       "killings_per_capita        1.000000\n",
       "total_police_killings      0.327809\n",
       "native_american_percent    0.203589\n",
       "black_percent              0.067957\n",
       "hispanic_percent           0.066982\n",
       "aapi_percent               0.063001\n",
       "native_american            0.032743\n",
       "aapi                       0.030022\n",
       "gini_index                 0.019131\n",
       "multi_race_percent        -0.003803\n",
       "white_percent             -0.007990\n",
       "vacant_homes              -0.024164\n",
       "hispanic                  -0.027127\n",
       "other_race                -0.033001\n",
       "multi_race                -0.040805\n",
       "black                     -0.050687\n",
       "owner_occupied_homes      -0.051199\n",
       "total_homes               -0.056589\n",
       "total_occupied_homes      -0.059087\n",
       "civilian_unemployed       -0.059175\n",
       "white                     -0.059608\n",
       "total_population          -0.060617\n",
       "renter_occupied_homes     -0.061864\n",
       "civilian_labor_force      -0.064652\n",
       "civilian_employed         -0.065134\n",
       "asian                     -0.111509\n",
       "employed_percent          -0.166720\n",
       "median_home_value         -0.179157\n",
       "asian_percent             -0.197833\n",
       "median_income             -0.257732\n",
       "dtype: float64"
      ]
     },
     "execution_count": 84,
     "metadata": {},
     "output_type": "execute_result"
    }
   ],
   "source": [
    "# Total killings is not a good measure of police violence, this is Task 3 (cont)\n",
    "# where I calculate correlation based on killing per capita\n",
    "\n",
    "df_merged['killings_per_capita'] = df_merged['total_police_killings'] / df_merged['total_population']\n",
    "\n",
    "numeric_lst.append('killings_per_capita')\n",
    "\n",
    "df_merged[numeric_lst].corrwith(df_merged['killings_per_capita']).sort_values(ascending=False)"
   ]
  },
  {
   "cell_type": "markdown",
   "metadata": {},
   "source": [
    "When analyzing correlations between total number of police killings for each city and other covariates, some obvious and tautological relationships arise; with more residences ('total_occupied_homes') and larger populations ('total_population') we have positive relationships with total police killings. In my second correlation list, I examine correlations between each covariate and police killing per capita, and using this as a cross reference, we begin to see which relationships are consistent across both measures. For example, in both lists, there is a positive correlation for 'native_american_percent', 'aapi_percent', and 'gini_index'. As expected, 'median_income' has a negative relationship with police killings in both lists. Interestingly, there is a negative relationship between 'killings_per_capita' and 'total_population'."
   ]
  },
  {
   "cell_type": "code",
   "execution_count": null,
   "metadata": {},
   "outputs": [
    {
     "data": {
      "text/html": [
       "<table class=\"simpletable\">\n",
       "<caption>OLS Regression Results</caption>\n",
       "<tr>\n",
       "  <th>Dep. Variable:</th>    <td>killings_per_capita</td> <th>  R-squared:         </th> <td>   0.111</td>\n",
       "</tr>\n",
       "<tr>\n",
       "  <th>Model:</th>                    <td>OLS</td>         <th>  Adj. R-squared:    </th> <td>   0.105</td>\n",
       "</tr>\n",
       "<tr>\n",
       "  <th>Method:</th>              <td>Least Squares</td>    <th>  F-statistic:       </th> <td>   19.73</td>\n",
       "</tr>\n",
       "<tr>\n",
       "  <th>Date:</th>              <td>Thu, 19 Dec 2024</td>   <th>  Prob (F-statistic):</th> <td>8.39e-09</td>\n",
       "</tr>\n",
       "<tr>\n",
       "  <th>Time:</th>                  <td>11:55:38</td>       <th>  Log-Likelihood:    </th> <td>  2730.7</td>\n",
       "</tr>\n",
       "<tr>\n",
       "  <th>No. Observations:</th>       <td>   319</td>        <th>  AIC:               </th> <td>  -5455.</td>\n",
       "</tr>\n",
       "<tr>\n",
       "  <th>Df Residuals:</th>           <td>   316</td>        <th>  BIC:               </th> <td>  -5444.</td>\n",
       "</tr>\n",
       "<tr>\n",
       "  <th>Df Model:</th>               <td>     2</td>        <th>                     </th>     <td> </td>   \n",
       "</tr>\n",
       "<tr>\n",
       "  <th>Covariance Type:</th>       <td>nonrobust</td>      <th>                     </th>     <td> </td>   \n",
       "</tr>\n",
       "</table>\n",
       "<table class=\"simpletable\">\n",
       "<tr>\n",
       "             <td></td>                <th>coef</th>     <th>std err</th>      <th>t</th>      <th>P>|t|</th>  <th>[0.025</th>    <th>0.975]</th>  \n",
       "</tr>\n",
       "<tr>\n",
       "  <th>Intercept</th>               <td>  9.76e-05</td> <td> 9.33e-06</td> <td>   10.462</td> <td> 0.000</td> <td> 7.92e-05</td> <td>    0.000</td>\n",
       "</tr>\n",
       "<tr>\n",
       "  <th>median_income</th>           <td>-5.973e-10</td> <td>  1.2e-10</td> <td>   -4.973</td> <td> 0.000</td> <td>-8.34e-10</td> <td>-3.61e-10</td>\n",
       "</tr>\n",
       "<tr>\n",
       "  <th>native_american_percent</th> <td>    0.0011</td> <td>    0.000</td> <td>    3.982</td> <td> 0.000</td> <td>    0.001</td> <td>    0.002</td>\n",
       "</tr>\n",
       "</table>\n",
       "<table class=\"simpletable\">\n",
       "<tr>\n",
       "  <th>Omnibus:</th>       <td>259.090</td> <th>  Durbin-Watson:     </th> <td>   1.985</td>\n",
       "</tr>\n",
       "<tr>\n",
       "  <th>Prob(Omnibus):</th> <td> 0.000</td>  <th>  Jarque-Bera (JB):  </th> <td>6147.470</td>\n",
       "</tr>\n",
       "<tr>\n",
       "  <th>Skew:</th>          <td> 3.138</td>  <th>  Prob(JB):          </th> <td>    0.00</td>\n",
       "</tr>\n",
       "<tr>\n",
       "  <th>Kurtosis:</th>      <td>23.570</td>  <th>  Cond. No.          </th> <td>7.65e+06</td>\n",
       "</tr>\n",
       "</table><br/><br/>Notes:<br/>[1] Standard Errors assume that the covariance matrix of the errors is correctly specified.<br/>[2] The condition number is large, 7.65e+06. This might indicate that there are<br/>strong multicollinearity or other numerical problems."
      ],
      "text/latex": [
       "\\begin{center}\n",
       "\\begin{tabular}{lclc}\n",
       "\\toprule\n",
       "\\textbf{Dep. Variable:}            & killings\\_per\\_capita & \\textbf{  R-squared:         } &     0.111   \\\\\n",
       "\\textbf{Model:}                    &          OLS          & \\textbf{  Adj. R-squared:    } &     0.105   \\\\\n",
       "\\textbf{Method:}                   &     Least Squares     & \\textbf{  F-statistic:       } &     19.73   \\\\\n",
       "\\textbf{Date:}                     &    Thu, 19 Dec 2024   & \\textbf{  Prob (F-statistic):} &  8.39e-09   \\\\\n",
       "\\textbf{Time:}                     &        11:55:38       & \\textbf{  Log-Likelihood:    } &    2730.7   \\\\\n",
       "\\textbf{No. Observations:}         &            319        & \\textbf{  AIC:               } &    -5455.   \\\\\n",
       "\\textbf{Df Residuals:}             &            316        & \\textbf{  BIC:               } &    -5444.   \\\\\n",
       "\\textbf{Df Model:}                 &              2        & \\textbf{                     } &             \\\\\n",
       "\\textbf{Covariance Type:}          &       nonrobust       & \\textbf{                     } &             \\\\\n",
       "\\bottomrule\n",
       "\\end{tabular}\n",
       "\\begin{tabular}{lcccccc}\n",
       "                                   & \\textbf{coef} & \\textbf{std err} & \\textbf{t} & \\textbf{P$> |$t$|$} & \\textbf{[0.025} & \\textbf{0.975]}  \\\\\n",
       "\\midrule\n",
       "\\textbf{Intercept}                 &     9.76e-05  &     9.33e-06     &    10.462  &         0.000        &     7.92e-05    &        0.000     \\\\\n",
       "\\textbf{median\\_income}            &   -5.973e-10  &      1.2e-10     &    -4.973  &         0.000        &    -8.34e-10    &    -3.61e-10     \\\\\n",
       "\\textbf{native\\_american\\_percent} &       0.0011  &        0.000     &     3.982  &         0.000        &        0.001    &        0.002     \\\\\n",
       "\\bottomrule\n",
       "\\end{tabular}\n",
       "\\begin{tabular}{lclc}\n",
       "\\textbf{Omnibus:}       & 259.090 & \\textbf{  Durbin-Watson:     } &    1.985  \\\\\n",
       "\\textbf{Prob(Omnibus):} &   0.000 & \\textbf{  Jarque-Bera (JB):  } & 6147.470  \\\\\n",
       "\\textbf{Skew:}          &   3.138 & \\textbf{  Prob(JB):          } &     0.00  \\\\\n",
       "\\textbf{Kurtosis:}      &  23.570 & \\textbf{  Cond. No.          } & 7.65e+06  \\\\\n",
       "\\bottomrule\n",
       "\\end{tabular}\n",
       "%\\caption{OLS Regression Results}\n",
       "\\end{center}\n",
       "\n",
       "Notes: \\newline\n",
       " [1] Standard Errors assume that the covariance matrix of the errors is correctly specified. \\newline\n",
       " [2] The condition number is large, 7.65e+06. This might indicate that there are \\newline\n",
       " strong multicollinearity or other numerical problems."
      ],
      "text/plain": [
       "<class 'statsmodels.iolib.summary.Summary'>\n",
       "\"\"\"\n",
       "                             OLS Regression Results                            \n",
       "===============================================================================\n",
       "Dep. Variable:     killings_per_capita   R-squared:                       0.111\n",
       "Model:                             OLS   Adj. R-squared:                  0.105\n",
       "Method:                  Least Squares   F-statistic:                     19.73\n",
       "Date:                 Thu, 19 Dec 2024   Prob (F-statistic):           8.39e-09\n",
       "Time:                         11:55:38   Log-Likelihood:                 2730.7\n",
       "No. Observations:                  319   AIC:                            -5455.\n",
       "Df Residuals:                      316   BIC:                            -5444.\n",
       "Df Model:                            2                                         \n",
       "Covariance Type:             nonrobust                                         \n",
       "===========================================================================================\n",
       "                              coef    std err          t      P>|t|      [0.025      0.975]\n",
       "-------------------------------------------------------------------------------------------\n",
       "Intercept                 9.76e-05   9.33e-06     10.462      0.000    7.92e-05       0.000\n",
       "median_income           -5.973e-10    1.2e-10     -4.973      0.000   -8.34e-10   -3.61e-10\n",
       "native_american_percent     0.0011      0.000      3.982      0.000       0.001       0.002\n",
       "==============================================================================\n",
       "Omnibus:                      259.090   Durbin-Watson:                   1.985\n",
       "Prob(Omnibus):                  0.000   Jarque-Bera (JB):             6147.470\n",
       "Skew:                           3.138   Prob(JB):                         0.00\n",
       "Kurtosis:                      23.570   Cond. No.                     7.65e+06\n",
       "==============================================================================\n",
       "\n",
       "Notes:\n",
       "[1] Standard Errors assume that the covariance matrix of the errors is correctly specified.\n",
       "[2] The condition number is large, 7.65e+06. This might indicate that there are\n",
       "strong multicollinearity or other numerical problems.\n",
       "\"\"\""
      ]
     },
     "execution_count": 106,
     "metadata": {},
     "output_type": "execute_result"
    }
   ],
   "source": [
    "# Task 4: Regression\n",
    "\n",
    "# NOTE: using 'killings_per_capita' as proxy measure for police violence.\n",
    "# will repeat and interpret using 'total_police_killings', time permitting\n",
    "\n",
    "# what I think are the best covs\n",
    "\n",
    "lin_reg = smf.ols(formula = 'killings_per_capita ~ median_income + native_american_percent',\n",
    "                  data = df_merged).fit()\n",
    "\n",
    "lin_reg.summary()\n"
   ]
  },
  {
   "cell_type": "markdown",
   "metadata": {},
   "source": [
    "From my list of covariates, I chose 'median_income', and 'native_american_percent'. These are likely to be correlated with police violence because income is representative of poverty, and poorer regions are more likely to be overpoliced. I used native_american_percent in this model as well because it had a high correlation in both lists in Task 3. Native Americans are more likely to live in poverty than other racial groups, and given the history of genocide and violence perpetrated against Native Americans, it is not surprising that a pattern of police violence persists today. Initially I also included 'employed_percent' in my model as well but I removed it because it was very collinear with 'median_income', understandably, and it only minimally improved my model performance."
   ]
  },
  {
   "cell_type": "markdown",
   "metadata": {},
   "source": [
    "**Task 5: Other Data**\n",
    "\n",
    "Racial demographics and the Gini index are useful and interesting because they provide us with one measure of population diversity over a unit region, which in this case, is a city. However, some of the cities in this dataset are quite large and for some urban cities, such as Chicago, these overall demographic numbers do not represent the segregation in neighborhoods. These large cities also vary greatly in population density, which can dictate the rate of interpersonal interactions.\n",
    "\n",
    "City population density data can be found here: https://simplemaps.com/data/us-cities (pop density comes free with basic download, but finer grained datasets can be purchased, apparently)\n",
    "\n",
    "I am also reminded of some work done by Dr. Marc Berman et al. (Psychology Department, MACSS Department at UChicago) where he has this complex machine learning stuff using US Census Data to measure the diversity and segregation of neighborhoods using different indices and calculations. His design also includes an exposure index, which is interesting in the context of population density and interactions. I believe that Berman uses smaller scale neighborhood units from a dataset made by U of Wisconsin: https://www.neighborhoodatlas.medicine.wisc.edu/\n",
    "\n",
    "While the Stanford Open Policing Project is focused on traffic stops rather than police killings, it provides race and gender information for both the officer and the civilian, which can provide insight into how race dynamics in single interactions can impact policing. It also provides finer grained location detail for the site of the traffic stop. These datasets are also massive in size. Find the data here: https://openpolicing.stanford.edu/data/"
   ]
  }
 ],
 "metadata": {
  "kernelspec": {
   "display_name": "base",
   "language": "python",
   "name": "python3"
  },
  "language_info": {
   "codemirror_mode": {
    "name": "ipython",
    "version": 3
   },
   "file_extension": ".py",
   "mimetype": "text/x-python",
   "name": "python",
   "nbconvert_exporter": "python",
   "pygments_lexer": "ipython3",
   "version": "3.12.4"
  }
 },
 "nbformat": 4,
 "nbformat_minor": 2
}
